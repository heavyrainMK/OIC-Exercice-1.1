{
 "cells": [
  {
   "cell_type": "code",
   "execution_count": 6,
   "metadata": {},
   "outputs": [
    {
     "name": "stdout",
     "output_type": "stream",
     "text": [
      "Adresse 2999: 1, Adresse 3000: 1.0, Adresse 3001: 1.0, Adresse 3002: 1\n",
      "Adresse 2999: 1, Adresse 3000: 1.0, Adresse 3001: 2.0, Adresse 3002: 2.0\n",
      "Adresse 2999: 1, Adresse 3000: 2.0, Adresse 3001: 3.0, Adresse 3002: 3.0\n",
      "Adresse 2999: 1, Adresse 3000: 3.0, Adresse 3001: 5.0, Adresse 3002: 5.0\n",
      "Adresse 2999: 1, Adresse 3000: 5.0, Adresse 3001: 8.0, Adresse 3002: 8.0\n",
      "Adresse 2999: 1, Adresse 3000: 8.0, Adresse 3001: 13.0, Adresse 3002: 13.0\n",
      "Adresse 2999: 1, Adresse 3000: 13.0, Adresse 3001: 21.0, Adresse 3002: 21.0\n",
      "Adresse 2999: 1, Adresse 3000: 21.0, Adresse 3001: 34.0, Adresse 3002: 34.0\n",
      "Adresse 2999: 1, Adresse 3000: 34.0, Adresse 3001: 55.0, Adresse 3002: 55.0\n",
      "Adresse 2999: 1, Adresse 3000: 55.0, Adresse 3001: 89.0, Adresse 3002: 89.0\n"
     ]
    }
   ],
   "source": [
    "# *******************************************************\n",
    "# Nom ......... : Exercice 1.7 (A Rendre).ipynb\n",
    "# Rôle ........ : Simulation d'une machine simple pour calculer la suite de Fibonacci\n",
    "# Auteur ...... : Maxim Khomenko\n",
    "# Version ..... : V1.0.0 du 24/05/2024\n",
    "# Licence ..... : Réalisé dans le cadre du cours de l'Architecture des Machines\n",
    "# Usage ....... : Ouvrir le notebook dans Jupyter Notebook ou JupyterLab.\n",
    "#                Exécuter toutes les cellules du notebook pour voir les résultats.\n",
    "# Description ..: Ce notebook simule une machine simple avec quatre adresses mémoire \n",
    "#                (2999, 3000, 3001, 3002). Il calcule les 10 premiers termes de la \n",
    "#                suite de Fibonacci en utilisant uniquement des opérations d'addition \n",
    "#                et de division. \n",
    "# *******************************************************\n",
    "\n",
    "def executer_programme():\n",
    "    # Initialiser les adresses mémoire\n",
    "    addr_2999 = 1\n",
    "    addr_3000 = 0\n",
    "    addr_3001 = 1\n",
    "    addr_3002 = 0\n",
    "\n",
    "    # Exécuter le programme 10 fois\n",
    "    for _ in range(10):\n",
    "        addr_3002 = addr_3000 + addr_3001  # Ajouter\n",
    "        addr_3000, addr_3001 = addr_3001, addr_3002  # Mettre à jour les valeurs temporaires\n",
    "\n",
    "        addr_3000 /= addr_2999  # Diviser\n",
    "        addr_3001 /= addr_2999  # Diviser\n",
    "\n",
    "        print(f\"Adresse 2999: {addr_2999}, Adresse 3000: {addr_3000}, Adresse 3001: {addr_3001}, Adresse 3002: {addr_3002}\")\n",
    "\n",
    "executer_programme()\n",
    "\n",
    "\n",
    "\n",
    "\n",
    "\n",
    "\n",
    "\n",
    "\n"
   ]
  }
 ],
 "metadata": {
  "kernelspec": {
   "display_name": "Python 3 (ipykernel)",
   "language": "python",
   "name": "python3"
  },
  "language_info": {
   "codemirror_mode": {
    "name": "ipython",
    "version": 3
   },
   "file_extension": ".py",
   "mimetype": "text/x-python",
   "name": "python",
   "nbconvert_exporter": "python",
   "pygments_lexer": "ipython3",
   "version": "3.11.6"
  }
 },
 "nbformat": 4,
 "nbformat_minor": 2
}
